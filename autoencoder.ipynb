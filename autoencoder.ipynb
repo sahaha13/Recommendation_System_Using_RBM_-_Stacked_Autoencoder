{
  "nbformat": 4,
  "nbformat_minor": 0,
  "metadata": {
    "colab": {
      "name": "autoencoder.ipynb",
      "provenance": [],
      "collapsed_sections": []
    },
    "kernelspec": {
      "name": "python3",
      "display_name": "Python 3"
    },
    "language_info": {
      "name": "python"
    }
  },
  "cells": [
    {
      "cell_type": "markdown",
      "source": [
        "# AutoEncoder based Recommender System"
      ],
      "metadata": {
        "id": "7KwjUsjwVzBU"
      }
    },
    {
      "cell_type": "markdown",
      "source": [
        "## Downloading Dataset"
      ],
      "metadata": {
        "id": "2fWA2EtoV943"
      }
    },
    {
      "cell_type": "markdown",
      "source": [
        "### ML-100K"
      ],
      "metadata": {
        "id": "K_qDjPGCWL1a"
      }
    },
    {
      "cell_type": "code",
      "source": [
        "!wget 'http://files.grouplens.org/datasets/movielens/ml-100k.zip'\n",
        "!unzip ml-100k.zip\n",
        "!ls"
      ],
      "metadata": {
        "colab": {
          "base_uri": "https://localhost:8080/"
        },
        "id": "Vvt_9klpWPOf",
        "outputId": "42b62b66-ffbe-48b8-f3a0-f88838bb9e30"
      },
      "execution_count": null,
      "outputs": [
        {
          "output_type": "stream",
          "name": "stdout",
          "text": [
            "--2022-06-11 17:45:37--  http://files.grouplens.org/datasets/movielens/ml-100k.zip\n",
            "Resolving files.grouplens.org (files.grouplens.org)... 128.101.65.152\n",
            "Connecting to files.grouplens.org (files.grouplens.org)|128.101.65.152|:80... connected.\n",
            "HTTP request sent, awaiting response... 200 OK\n",
            "Length: 4924029 (4.7M) [application/zip]\n",
            "Saving to: ‘ml-100k.zip’\n",
            "\n",
            "ml-100k.zip         100%[===================>]   4.70M  24.4MB/s    in 0.2s    \n",
            "\n",
            "2022-06-11 17:45:38 (24.4 MB/s) - ‘ml-100k.zip’ saved [4924029/4924029]\n",
            "\n",
            "Archive:  ml-100k.zip\n",
            "   creating: ml-100k/\n",
            "  inflating: ml-100k/allbut.pl       \n",
            "  inflating: ml-100k/mku.sh          \n",
            "  inflating: ml-100k/README          \n",
            "  inflating: ml-100k/u.data          \n",
            "  inflating: ml-100k/u.genre         \n",
            "  inflating: ml-100k/u.info          \n",
            "  inflating: ml-100k/u.item          \n",
            "  inflating: ml-100k/u.occupation    \n",
            "  inflating: ml-100k/u.user          \n",
            "  inflating: ml-100k/u1.base         \n",
            "  inflating: ml-100k/u1.test         \n",
            "  inflating: ml-100k/u2.base         \n",
            "  inflating: ml-100k/u2.test         \n",
            "  inflating: ml-100k/u3.base         \n",
            "  inflating: ml-100k/u3.test         \n",
            "  inflating: ml-100k/u4.base         \n",
            "  inflating: ml-100k/u4.test         \n",
            "  inflating: ml-100k/u5.base         \n",
            "  inflating: ml-100k/u5.test         \n",
            "  inflating: ml-100k/ua.base         \n",
            "  inflating: ml-100k/ua.test         \n",
            "  inflating: ml-100k/ub.base         \n",
            "  inflating: ml-100k/ub.test         \n",
            "ml-100k  ml-100k.zip  sample_data\n"
          ]
        }
      ]
    },
    {
      "cell_type": "markdown",
      "source": [
        "### ML-1M"
      ],
      "metadata": {
        "id": "fE_Ap9UmWVNc"
      }
    },
    {
      "cell_type": "code",
      "source": [
        "!wget \"http://files.grouplens.org/datasets/movielens/ml-1m.zip\"\n",
        "!unzip ml-1m.zip\n",
        "!ls"
      ],
      "metadata": {
        "id": "tDdrsfwDWY_J",
        "colab": {
          "base_uri": "https://localhost:8080/"
        },
        "outputId": "804c8c1c-e5d6-436d-9c98-9aad379d9861"
      },
      "execution_count": null,
      "outputs": [
        {
          "output_type": "stream",
          "name": "stdout",
          "text": [
            "--2022-06-11 17:45:38--  http://files.grouplens.org/datasets/movielens/ml-1m.zip\n",
            "Resolving files.grouplens.org (files.grouplens.org)... 128.101.65.152\n",
            "Connecting to files.grouplens.org (files.grouplens.org)|128.101.65.152|:80... connected.\n",
            "HTTP request sent, awaiting response... 200 OK\n",
            "Length: 5917549 (5.6M) [application/zip]\n",
            "Saving to: ‘ml-1m.zip’\n",
            "\n",
            "ml-1m.zip           100%[===================>]   5.64M  26.7MB/s    in 0.2s    \n",
            "\n",
            "2022-06-11 17:45:38 (26.7 MB/s) - ‘ml-1m.zip’ saved [5917549/5917549]\n",
            "\n",
            "Archive:  ml-1m.zip\n",
            "   creating: ml-1m/\n",
            "  inflating: ml-1m/movies.dat        \n",
            "  inflating: ml-1m/ratings.dat       \n",
            "  inflating: ml-1m/README            \n",
            "  inflating: ml-1m/users.dat         \n",
            "ml-100k  ml-100k.zip  ml-1m  ml-1m.zip\tsample_data\n"
          ]
        }
      ]
    },
    {
      "cell_type": "markdown",
      "source": [
        "## Importing the libraries"
      ],
      "metadata": {
        "id": "2lwP_M4JWfle"
      }
    },
    {
      "cell_type": "code",
      "source": [
        "import numpy as np\n",
        "import pandas as pd\n",
        "import torch\n",
        "import torch.nn as nn\n",
        "import torch.nn.parallel\n",
        "import torch.optim as optim\n",
        "import torch.utils.data\n",
        "from torch.autograd import Variable"
      ],
      "metadata": {
        "id": "kLuww8NDWlQV"
      },
      "execution_count": null,
      "outputs": []
    },
    {
      "cell_type": "markdown",
      "source": [
        "## Importing the Dataset"
      ],
      "metadata": {
        "id": "5VaRYVDfWyZq"
      }
    },
    {
      "cell_type": "code",
      "source": [
        "movies = pd.read_csv('ml-1m/movies.dat', sep = '::', header = None, engine = 'python', encoding = 'latin-1')\n",
        "users = pd.read_csv('ml-1m/users.dat', sep = '::', header = None, engine = 'python', encoding = 'latin-1')\n",
        "ratings = pd.read_csv('ml-1m/ratings.dat', sep = '::', header = None, engine = 'python', encoding = 'latin-1')"
      ],
      "metadata": {
        "id": "MK6guG7jW1KM"
      },
      "execution_count": null,
      "outputs": []
    },
    {
      "cell_type": "markdown",
      "source": [
        "## Preparing Training and Test sets"
      ],
      "metadata": {
        "id": "gbeVjrQ0XLTd"
      }
    },
    {
      "cell_type": "code",
      "source": [
        "training_set = pd.read_csv('ml-100k/u1.base', delimiter = \"\\t\")\n",
        "training_set = np.array(training_set, dtype = 'int')\n",
        "test_set = pd.read_csv('ml-100k/u1.base', delimiter = \"\\t\")\n",
        "test_set = np.array(test_set, dtype = 'int')"
      ],
      "metadata": {
        "id": "YcU7AA9EXe0e"
      },
      "execution_count": null,
      "outputs": []
    },
    {
      "cell_type": "code",
      "source": [
        "training_set"
      ],
      "metadata": {
        "id": "i2CBkn2ZXzXE",
        "colab": {
          "base_uri": "https://localhost:8080/"
        },
        "outputId": "fe9a3b11-f600-4a82-e3c6-53026cc8475c"
      },
      "execution_count": null,
      "outputs": [
        {
          "output_type": "execute_result",
          "data": {
            "text/plain": [
              "array([[        1,         2,         3, 876893171],\n",
              "       [        1,         3,         4, 878542960],\n",
              "       [        1,         4,         3, 876893119],\n",
              "       ...,\n",
              "       [      943,      1188,         3, 888640250],\n",
              "       [      943,      1228,         3, 888640275],\n",
              "       [      943,      1330,         3, 888692465]])"
            ]
          },
          "metadata": {},
          "execution_count": 6
        }
      ]
    },
    {
      "cell_type": "code",
      "source": [
        "test_set"
      ],
      "metadata": {
        "id": "C_ZNspJnX0sE",
        "colab": {
          "base_uri": "https://localhost:8080/"
        },
        "outputId": "536021e8-f3a2-4ad0-ef9c-bd74ba28ef70"
      },
      "execution_count": null,
      "outputs": [
        {
          "output_type": "execute_result",
          "data": {
            "text/plain": [
              "array([[        1,         2,         3, 876893171],\n",
              "       [        1,         3,         4, 878542960],\n",
              "       [        1,         4,         3, 876893119],\n",
              "       ...,\n",
              "       [      943,      1188,         3, 888640250],\n",
              "       [      943,      1228,         3, 888640275],\n",
              "       [      943,      1330,         3, 888692465]])"
            ]
          },
          "metadata": {},
          "execution_count": 7
        }
      ]
    },
    {
      "cell_type": "markdown",
      "source": [
        "## Getting the number of users and movies"
      ],
      "metadata": {
        "id": "c1WDC25PX2Oc"
      }
    },
    {
      "cell_type": "code",
      "source": [
        "nb_users = int(max(max(training_set[:, 0]), max(test_set[:, 0])))\n",
        "nb_movies = int(max(max(training_set[:, 1]), max(test_set[:, 1])))"
      ],
      "metadata": {
        "id": "Pg1qPACcX6em"
      },
      "execution_count": null,
      "outputs": []
    },
    {
      "cell_type": "markdown",
      "source": [
        "## Converting the data into array with users in rows and movies in columns"
      ],
      "metadata": {
        "id": "0i_oWPbSYFbm"
      }
    },
    {
      "cell_type": "code",
      "source": [
        "def convert(data):\n",
        "  new_data = []\n",
        "  for id_users in range(1, nb_users+1):\n",
        "    id_movies = data[:, 1] [data[:, 0] == id_users]\n",
        "    id_ratings = data[:, 2] [data[:, 0] == id_users]\n",
        "    ratings = np.zeros(nb_movies)\n",
        "    ratings[id_movies -1] = id_ratings\n",
        "    new_data.append(list(ratings))\n",
        "  return new_data\n",
        "training_set = convert(test_set)\n",
        "test_set = convert(test_set)"
      ],
      "metadata": {
        "id": "q2I6Gq6LYS-4"
      },
      "execution_count": null,
      "outputs": []
    },
    {
      "cell_type": "markdown",
      "source": [
        "## Converting data into torch tensors"
      ],
      "metadata": {
        "id": "K81wBEMwZCgU"
      }
    },
    {
      "cell_type": "code",
      "source": [
        "training_set = torch.FloatTensor(training_set)\n",
        "test_set = torch.FloatTensor(test_set)"
      ],
      "metadata": {
        "id": "3BqOhnbwZGDb"
      },
      "execution_count": null,
      "outputs": []
    },
    {
      "cell_type": "markdown",
      "source": [
        "## Creating architecture of Stacked Autoencoder"
      ],
      "metadata": {
        "id": "6eyYWIoak_9e"
      }
    },
    {
      "cell_type": "code",
      "source": [
        "class SAE(nn.Module):\n",
        "    def __init__(self, ):\n",
        "        super(SAE, self).__init__()\n",
        "        self.fc1 = nn.Linear(nb_movies, 20)\n",
        "        self.fc2 = nn.Linear(20, 10)\n",
        "        self.fc3 = nn.Linear(10, 20)\n",
        "        self.fc4 = nn.Linear(20, nb_movies)\n",
        "        self.activation = nn.Sigmoid()\n",
        "    def forward(self, x):\n",
        "        x = self.activation(self.fc1(x))\n",
        "        x = self.activation(self.fc2(x))\n",
        "        x = self.activation(self.fc3(x))\n",
        "        x = self.fc4(x)\n",
        "        return x\n",
        "sae = SAE()\n",
        "criterion = nn.MSELoss()\n",
        "optimizer = optim.RMSprop(sae.parameters(), lr = 0.01, weight_decay = 0.5)"
      ],
      "metadata": {
        "id": "KMACI9izZNTM"
      },
      "execution_count": null,
      "outputs": []
    },
    {
      "cell_type": "markdown",
      "source": [
        "## Training the SAE"
      ],
      "metadata": {
        "id": "01H5xcCxqg0g"
      }
    },
    {
      "cell_type": "code",
      "source": [
        "nb_epoch = 200\n",
        "for epoch in range(1, nb_epoch + 1):\n",
        "  train_loss = 0\n",
        "  s = 0.\n",
        "  for id_user in range(nb_users):\n",
        "    input = Variable(training_set[id_user]).unsqueeze(0)\n",
        "    target = input.clone()\n",
        "    if torch.sum(target.data > 0) > 0:\n",
        "      output = sae(input)\n",
        "      target.require_grad = False\n",
        "      output[target == 0] = 0\n",
        "      loss = criterion(output, target)\n",
        "      mean_corrector = nb_movies/float(torch.sum(target.data > 0) + 1e-10)\n",
        "      loss.backward()\n",
        "      train_loss += np.sqrt(loss.data*mean_corrector)\n",
        "      s += 1.\n",
        "      optimizer.step()\n",
        "  print('epoch: '+str(epoch)+'loss: '+ str(train_loss/s))"
      ],
      "metadata": {
        "id": "yYlMOUjxyIA-",
        "colab": {
          "base_uri": "https://localhost:8080/"
        },
        "outputId": "413112dd-07ed-472e-ac99-87b55a203dc5"
      },
      "execution_count": null,
      "outputs": [
        {
          "output_type": "stream",
          "name": "stdout",
          "text": [
            "epoch: 1loss: tensor(1.7706)\n",
            "epoch: 2loss: tensor(1.0968)\n",
            "epoch: 3loss: tensor(1.0534)\n",
            "epoch: 4loss: tensor(1.0383)\n",
            "epoch: 5loss: tensor(1.0310)\n",
            "epoch: 6loss: tensor(1.0264)\n",
            "epoch: 7loss: tensor(1.0239)\n",
            "epoch: 8loss: tensor(1.0219)\n",
            "epoch: 9loss: tensor(1.0209)\n",
            "epoch: 10loss: tensor(1.0195)\n",
            "epoch: 11loss: tensor(1.0187)\n",
            "epoch: 12loss: tensor(1.0186)\n",
            "epoch: 13loss: tensor(1.0177)\n",
            "epoch: 14loss: tensor(1.0177)\n",
            "epoch: 15loss: tensor(1.0172)\n",
            "epoch: 16loss: tensor(1.0170)\n",
            "epoch: 17loss: tensor(1.0167)\n",
            "epoch: 18loss: tensor(1.0165)\n",
            "epoch: 19loss: tensor(1.0164)\n",
            "epoch: 20loss: tensor(1.0163)\n",
            "epoch: 21loss: tensor(1.0160)\n",
            "epoch: 22loss: tensor(1.0163)\n",
            "epoch: 23loss: tensor(1.0158)\n",
            "epoch: 24loss: tensor(1.0158)\n",
            "epoch: 25loss: tensor(1.0157)\n",
            "epoch: 26loss: tensor(1.0158)\n",
            "epoch: 27loss: tensor(1.0155)\n",
            "epoch: 28loss: tensor(1.0150)\n",
            "epoch: 29loss: tensor(1.0130)\n",
            "epoch: 30loss: tensor(1.0114)\n",
            "epoch: 31loss: tensor(1.0111)\n",
            "epoch: 32loss: tensor(1.0087)\n",
            "epoch: 33loss: tensor(1.0088)\n",
            "epoch: 34loss: tensor(1.0056)\n",
            "epoch: 35loss: tensor(1.0047)\n",
            "epoch: 36loss: tensor(1.0016)\n",
            "epoch: 37loss: tensor(1.0002)\n",
            "epoch: 38loss: tensor(0.9986)\n",
            "epoch: 39loss: tensor(0.9967)\n",
            "epoch: 40loss: tensor(0.9935)\n",
            "epoch: 41loss: tensor(0.9914)\n",
            "epoch: 42loss: tensor(0.9887)\n",
            "epoch: 43loss: tensor(0.9874)\n",
            "epoch: 44loss: tensor(0.9841)\n",
            "epoch: 45loss: tensor(0.9830)\n",
            "epoch: 46loss: tensor(0.9785)\n",
            "epoch: 47loss: tensor(0.9789)\n",
            "epoch: 48loss: tensor(0.9772)\n",
            "epoch: 49loss: tensor(0.9771)\n",
            "epoch: 50loss: tensor(0.9776)\n",
            "epoch: 51loss: tensor(0.9783)\n",
            "epoch: 52loss: tensor(0.9725)\n",
            "epoch: 53loss: tensor(0.9701)\n",
            "epoch: 54loss: tensor(0.9689)\n",
            "epoch: 55loss: tensor(0.9703)\n",
            "epoch: 56loss: tensor(0.9728)\n",
            "epoch: 57loss: tensor(0.9812)\n",
            "epoch: 58loss: tensor(0.9806)\n",
            "epoch: 59loss: tensor(0.9842)\n",
            "epoch: 60loss: tensor(0.9852)\n",
            "epoch: 61loss: tensor(0.9790)\n",
            "epoch: 62loss: tensor(0.9758)\n",
            "epoch: 63loss: tensor(0.9754)\n",
            "epoch: 64loss: tensor(0.9736)\n",
            "epoch: 65loss: tensor(0.9748)\n",
            "epoch: 66loss: tensor(0.9708)\n",
            "epoch: 67loss: tensor(0.9715)\n",
            "epoch: 68loss: tensor(0.9700)\n",
            "epoch: 69loss: tensor(0.9706)\n",
            "epoch: 70loss: tensor(0.9738)\n",
            "epoch: 71loss: tensor(0.9708)\n",
            "epoch: 72loss: tensor(0.9663)\n",
            "epoch: 73loss: tensor(0.9642)\n",
            "epoch: 74loss: tensor(0.9637)\n",
            "epoch: 75loss: tensor(0.9628)\n",
            "epoch: 76loss: tensor(0.9602)\n",
            "epoch: 77loss: tensor(0.9575)\n",
            "epoch: 78loss: tensor(0.9550)\n",
            "epoch: 79loss: tensor(0.9571)\n",
            "epoch: 80loss: tensor(0.9574)\n",
            "epoch: 81loss: tensor(0.9605)\n",
            "epoch: 82loss: tensor(0.9522)\n",
            "epoch: 83loss: tensor(0.9535)\n",
            "epoch: 84loss: tensor(0.9495)\n",
            "epoch: 85loss: tensor(0.9497)\n",
            "epoch: 86loss: tensor(0.9482)\n",
            "epoch: 87loss: tensor(0.9481)\n",
            "epoch: 88loss: tensor(0.9466)\n",
            "epoch: 89loss: tensor(0.9478)\n",
            "epoch: 90loss: tensor(0.9482)\n",
            "epoch: 91loss: tensor(0.9472)\n",
            "epoch: 92loss: tensor(0.9455)\n",
            "epoch: 93loss: tensor(0.9463)\n",
            "epoch: 94loss: tensor(0.9440)\n",
            "epoch: 95loss: tensor(0.9433)\n",
            "epoch: 96loss: tensor(0.9430)\n",
            "epoch: 97loss: tensor(0.9433)\n",
            "epoch: 98loss: tensor(0.9418)\n",
            "epoch: 99loss: tensor(0.9420)\n",
            "epoch: 100loss: tensor(0.9418)\n",
            "epoch: 101loss: tensor(0.9409)\n",
            "epoch: 102loss: tensor(0.9395)\n",
            "epoch: 103loss: tensor(0.9405)\n",
            "epoch: 104loss: tensor(0.9388)\n",
            "epoch: 105loss: tensor(0.9396)\n",
            "epoch: 106loss: tensor(0.9386)\n",
            "epoch: 107loss: tensor(0.9386)\n",
            "epoch: 108loss: tensor(0.9373)\n",
            "epoch: 109loss: tensor(0.9390)\n",
            "epoch: 110loss: tensor(0.9381)\n",
            "epoch: 111loss: tensor(0.9381)\n",
            "epoch: 112loss: tensor(0.9362)\n",
            "epoch: 113loss: tensor(0.9364)\n",
            "epoch: 114loss: tensor(0.9356)\n",
            "epoch: 115loss: tensor(0.9355)\n",
            "epoch: 116loss: tensor(0.9354)\n",
            "epoch: 117loss: tensor(0.9356)\n",
            "epoch: 118loss: tensor(0.9340)\n",
            "epoch: 119loss: tensor(0.9345)\n",
            "epoch: 120loss: tensor(0.9336)\n",
            "epoch: 121loss: tensor(0.9337)\n",
            "epoch: 122loss: tensor(0.9328)\n",
            "epoch: 123loss: tensor(0.9329)\n",
            "epoch: 124loss: tensor(0.9324)\n",
            "epoch: 125loss: tensor(0.9326)\n",
            "epoch: 126loss: tensor(0.9316)\n",
            "epoch: 127loss: tensor(0.9313)\n",
            "epoch: 128loss: tensor(0.9316)\n",
            "epoch: 129loss: tensor(0.9309)\n",
            "epoch: 130loss: tensor(0.9301)\n",
            "epoch: 131loss: tensor(0.9295)\n",
            "epoch: 132loss: tensor(0.9300)\n",
            "epoch: 133loss: tensor(0.9296)\n",
            "epoch: 134loss: tensor(0.9287)\n",
            "epoch: 135loss: tensor(0.9286)\n",
            "epoch: 136loss: tensor(0.9283)\n",
            "epoch: 137loss: tensor(0.9286)\n",
            "epoch: 138loss: tensor(0.9277)\n",
            "epoch: 139loss: tensor(0.9269)\n",
            "epoch: 140loss: tensor(0.9270)\n",
            "epoch: 141loss: tensor(0.9277)\n",
            "epoch: 142loss: tensor(0.9266)\n",
            "epoch: 143loss: tensor(0.9266)\n",
            "epoch: 144loss: tensor(0.9258)\n",
            "epoch: 145loss: tensor(0.9260)\n",
            "epoch: 146loss: tensor(0.9250)\n",
            "epoch: 147loss: tensor(0.9258)\n",
            "epoch: 148loss: tensor(0.9249)\n",
            "epoch: 149loss: tensor(0.9250)\n",
            "epoch: 150loss: tensor(0.9238)\n",
            "epoch: 151loss: tensor(0.9235)\n",
            "epoch: 152loss: tensor(0.9235)\n",
            "epoch: 153loss: tensor(0.9243)\n",
            "epoch: 154loss: tensor(0.9233)\n",
            "epoch: 155loss: tensor(0.9240)\n",
            "epoch: 156loss: tensor(0.9229)\n",
            "epoch: 157loss: tensor(0.9225)\n",
            "epoch: 158loss: tensor(0.9222)\n",
            "epoch: 159loss: tensor(0.9221)\n",
            "epoch: 160loss: tensor(0.9219)\n",
            "epoch: 161loss: tensor(0.9225)\n",
            "epoch: 162loss: tensor(0.9214)\n",
            "epoch: 163loss: tensor(0.9212)\n",
            "epoch: 164loss: tensor(0.9211)\n",
            "epoch: 165loss: tensor(0.9210)\n",
            "epoch: 166loss: tensor(0.9207)\n",
            "epoch: 167loss: tensor(0.9202)\n",
            "epoch: 168loss: tensor(0.9202)\n",
            "epoch: 169loss: tensor(0.9202)\n",
            "epoch: 170loss: tensor(0.9198)\n",
            "epoch: 171loss: tensor(0.9200)\n",
            "epoch: 172loss: tensor(0.9190)\n",
            "epoch: 173loss: tensor(0.9196)\n",
            "epoch: 174loss: tensor(0.9190)\n",
            "epoch: 175loss: tensor(0.9187)\n",
            "epoch: 176loss: tensor(0.9186)\n",
            "epoch: 177loss: tensor(0.9181)\n",
            "epoch: 178loss: tensor(0.9181)\n",
            "epoch: 179loss: tensor(0.9178)\n",
            "epoch: 180loss: tensor(0.9178)\n",
            "epoch: 181loss: tensor(0.9177)\n",
            "epoch: 182loss: tensor(0.9170)\n",
            "epoch: 183loss: tensor(0.9180)\n",
            "epoch: 184loss: tensor(0.9170)\n",
            "epoch: 185loss: tensor(0.9173)\n",
            "epoch: 186loss: tensor(0.9168)\n",
            "epoch: 187loss: tensor(0.9166)\n",
            "epoch: 188loss: tensor(0.9162)\n",
            "epoch: 189loss: tensor(0.9156)\n",
            "epoch: 190loss: tensor(0.9157)\n",
            "epoch: 191loss: tensor(0.9155)\n",
            "epoch: 192loss: tensor(0.9154)\n",
            "epoch: 193loss: tensor(0.9153)\n",
            "epoch: 194loss: tensor(0.9148)\n",
            "epoch: 195loss: tensor(0.9143)\n",
            "epoch: 196loss: tensor(0.9145)\n",
            "epoch: 197loss: tensor(0.9137)\n",
            "epoch: 198loss: tensor(0.9140)\n",
            "epoch: 199loss: tensor(0.9137)\n",
            "epoch: 200loss: tensor(0.9136)\n"
          ]
        }
      ]
    },
    {
      "cell_type": "markdown",
      "source": [
        "## Testing the SAE"
      ],
      "metadata": {
        "id": "u8ldPW1U1lrU"
      }
    },
    {
      "cell_type": "code",
      "source": [
        "test_loss = 0\n",
        "s = 0.\n",
        "for id_user in range(nb_users):\n",
        "  input = Variable(training_set[id_user]).unsqueeze(0)\n",
        "  target = Variable(test_set[id_user]).unsqueeze(0)\n",
        "  if torch.sum(target.data > 0) > 0:\n",
        "    output = sae(input)\n",
        "    target.require_grad = False\n",
        "    output[target == 0] = 0\n",
        "    loss = criterion(output, target)\n",
        "    mean_corrector = nb_movies/float(torch.sum(target.data > 0) + 1e-10)\n",
        "    test_loss += np.sqrt(loss.data*mean_corrector)\n",
        "    s += 1.\n",
        "print('test loss: '+str(test_loss/s))"
      ],
      "metadata": {
        "colab": {
          "base_uri": "https://localhost:8080/"
        },
        "id": "T-DxeDnq245f",
        "outputId": "65fa329c-89b8-4243-db02-3ceaf83a13e1"
      },
      "execution_count": null,
      "outputs": [
        {
          "output_type": "stream",
          "name": "stdout",
          "text": [
            "test loss: tensor(0.9095)\n"
          ]
        }
      ]
    },
    {
      "cell_type": "markdown",
      "source": [
        "***"
      ],
      "metadata": {
        "id": "MrXLAGdP5IdA"
      }
    }
  ]
}